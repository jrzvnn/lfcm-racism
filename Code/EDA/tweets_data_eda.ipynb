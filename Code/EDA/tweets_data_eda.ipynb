{
 "cells": [
  {
   "cell_type": "code",
   "execution_count": 3,
   "metadata": {},
   "outputs": [],
   "source": [
    "import pandas as pd\n",
    "import matplotlib.pyplot as plt"
   ]
  },
  {
   "cell_type": "code",
   "execution_count": 2,
   "metadata": {},
   "outputs": [],
   "source": [
    "# Load the CSV file into a DataFrame\n",
    "csv_file = '/home/jrzvnn/Documents/Projects/lfcm-racism/Data/Processed_Data/dataset.csv' \n",
    "df = pd.read_csv(csv_file)"
   ]
  },
  {
   "cell_type": "code",
   "execution_count": 3,
   "metadata": {},
   "outputs": [
    {
     "name": "stdout",
     "output_type": "stream",
     "text": [
      "Number of blank cells in the 'label' column: 1172\n"
     ]
    }
   ],
   "source": [
    "# Count the blank cells in the 'label' column\n",
    "blank_label_count = df['label'].isna().sum()\n",
    "\n",
    "# Print the result\n",
    "print(f\"Number of blank cells in the 'label' column: {blank_label_count}\")"
   ]
  },
  {
   "cell_type": "markdown",
   "metadata": {},
   "source": [
    "### Data Preprocessing: Filling Blank Cells with Default Value\n",
    "\n",
    "In the previous analysis, we observed that there were blank cells in the \"label\" column. To ensure data consistency and enable further analysis, we have preprocessed the data by filling these blank cells with the default value \"0\". This ensures that every entry in the \"label\" column has a valid value."
   ]
  },
  {
   "cell_type": "code",
   "execution_count": 19,
   "metadata": {},
   "outputs": [
    {
     "data": {
      "text/html": [
       "<div>\n",
       "<style scoped>\n",
       "    .dataframe tbody tr th:only-of-type {\n",
       "        vertical-align: middle;\n",
       "    }\n",
       "\n",
       "    .dataframe tbody tr th {\n",
       "        vertical-align: top;\n",
       "    }\n",
       "\n",
       "    .dataframe thead th {\n",
       "        text-align: right;\n",
       "    }\n",
       "</style>\n",
       "<table border=\"1\" class=\"dataframe\">\n",
       "  <thead>\n",
       "    <tr style=\"text-align: right;\">\n",
       "      <th></th>\n",
       "      <th>entry_id</th>\n",
       "      <th>tweet_text</th>\n",
       "      <th>label</th>\n",
       "      <th>keyword</th>\n",
       "    </tr>\n",
       "  </thead>\n",
       "  <tbody>\n",
       "    <tr>\n",
       "      <th>0</th>\n",
       "      <td>1685522376417812482</td>\n",
       "      <td>After the Elksshit game Matty Dunigan said he ...</td>\n",
       "      <td>1</td>\n",
       "      <td>eskimo</td>\n",
       "    </tr>\n",
       "    <tr>\n",
       "      <th>1</th>\n",
       "      <td>1682229924218773504</td>\n",
       "      <td>I will laugh hysterically if they rename them ...</td>\n",
       "      <td>0</td>\n",
       "      <td>redskin</td>\n",
       "    </tr>\n",
       "    <tr>\n",
       "      <th>2</th>\n",
       "      <td>1694440761750589746</td>\n",
       "      <td>WOKE HOOLIGANS AubrSHEHER PANgel VANCEL CULTUR...</td>\n",
       "      <td>0</td>\n",
       "      <td>hooligans</td>\n",
       "    </tr>\n",
       "    <tr>\n",
       "      <th>3</th>\n",
       "      <td>1677619709838077952</td>\n",
       "      <td>See the way u feeling See how everywhere they ...</td>\n",
       "      <td>1</td>\n",
       "      <td>pajeet</td>\n",
       "    </tr>\n",
       "    <tr>\n",
       "      <th>4</th>\n",
       "      <td>1692583235233153381</td>\n",
       "      <td>Wlhy Ina Jin jiki mallan i closed from work na...</td>\n",
       "      <td>1</td>\n",
       "      <td>kike</td>\n",
       "    </tr>\n",
       "    <tr>\n",
       "      <th>...</th>\n",
       "      <td>...</td>\n",
       "      <td>...</td>\n",
       "      <td>...</td>\n",
       "      <td>...</td>\n",
       "    </tr>\n",
       "    <tr>\n",
       "      <th>3515</th>\n",
       "      <td>1690649493161590784</td>\n",
       "      <td>maturing is realizing that jigga mans Magna Ca...</td>\n",
       "      <td>0</td>\n",
       "      <td>jigga</td>\n",
       "    </tr>\n",
       "    <tr>\n",
       "      <th>3516</th>\n",
       "      <td>1697004926251970919</td>\n",
       "      <td>Still blown away that this moron got rid of th...</td>\n",
       "      <td>1</td>\n",
       "      <td>moron</td>\n",
       "    </tr>\n",
       "    <tr>\n",
       "      <th>3517</th>\n",
       "      <td>1695178492416250179</td>\n",
       "      <td>acting choices have always spoken volumes</td>\n",
       "      <td>0</td>\n",
       "      <td>black barbie</td>\n",
       "    </tr>\n",
       "    <tr>\n",
       "      <th>3518</th>\n",
       "      <td>1686855118434476032</td>\n",
       "      <td>Many hominids have gone before us Homo Sapiens...</td>\n",
       "      <td>0</td>\n",
       "      <td>neanderthal</td>\n",
       "    </tr>\n",
       "    <tr>\n",
       "      <th>3519</th>\n",
       "      <td>1681875974592380930</td>\n",
       "      <td>If youre not a DC sports fan you dont get it  ...</td>\n",
       "      <td>0</td>\n",
       "      <td>redskin</td>\n",
       "    </tr>\n",
       "  </tbody>\n",
       "</table>\n",
       "<p>3520 rows × 4 columns</p>\n",
       "</div>"
      ],
      "text/plain": [
       "                 entry_id                                         tweet_text  \\\n",
       "0     1685522376417812482  After the Elksshit game Matty Dunigan said he ...   \n",
       "1     1682229924218773504  I will laugh hysterically if they rename them ...   \n",
       "2     1694440761750589746  WOKE HOOLIGANS AubrSHEHER PANgel VANCEL CULTUR...   \n",
       "3     1677619709838077952  See the way u feeling See how everywhere they ...   \n",
       "4     1692583235233153381  Wlhy Ina Jin jiki mallan i closed from work na...   \n",
       "...                   ...                                                ...   \n",
       "3515  1690649493161590784  maturing is realizing that jigga mans Magna Ca...   \n",
       "3516  1697004926251970919  Still blown away that this moron got rid of th...   \n",
       "3517  1695178492416250179         acting choices have always spoken volumes    \n",
       "3518  1686855118434476032  Many hominids have gone before us Homo Sapiens...   \n",
       "3519  1681875974592380930  If youre not a DC sports fan you dont get it  ...   \n",
       "\n",
       "      label       keyword  \n",
       "0         1        eskimo  \n",
       "1         0       redskin  \n",
       "2         0     hooligans  \n",
       "3         1        pajeet  \n",
       "4         1          kike  \n",
       "...     ...           ...  \n",
       "3515      0         jigga  \n",
       "3516      1         moron  \n",
       "3517      0  black barbie  \n",
       "3518      0   neanderthal  \n",
       "3519      0       redskin  \n",
       "\n",
       "[3520 rows x 4 columns]"
      ]
     },
     "execution_count": 19,
     "metadata": {},
     "output_type": "execute_result"
    }
   ],
   "source": [
    "# Read the CSV file into a DataFrame\n",
    "df = pd.read_csv('/home/jrzvnn/Documents/Projects/lfcm-racism/Data/Processed_Data/train.csv')\n",
    "df"
   ]
  },
  {
   "cell_type": "code",
   "execution_count": 20,
   "metadata": {},
   "outputs": [
    {
     "data": {
      "text/plain": [
       "label\n",
       "0    2336\n",
       "1    1184\n",
       "Name: count, dtype: int64"
      ]
     },
     "execution_count": 20,
     "metadata": {},
     "output_type": "execute_result"
    }
   ],
   "source": [
    "# Count the number of '1' and '0' in the 'label' column\n",
    "label_counts = df['label'].value_counts()\n",
    "label_counts"
   ]
  },
  {
   "cell_type": "code",
   "execution_count": 21,
   "metadata": {},
   "outputs": [
    {
     "data": {
      "text/plain": [
       "label\n",
       "0    66.363636\n",
       "1    33.636364\n",
       "Name: count, dtype: float64"
      ]
     },
     "execution_count": 21,
     "metadata": {},
     "output_type": "execute_result"
    }
   ],
   "source": [
    "# Calculate the percentage\n",
    "total = label_counts.sum()\n",
    "percentage = (label_counts / total) * 100\n",
    "percentage"
   ]
  },
  {
   "cell_type": "code",
   "execution_count": 22,
   "metadata": {},
   "outputs": [
    {
     "data": {
      "image/png": "[encoded data removed]",
      "text/plain": [
       "<Figure size 800x600 with 1 Axes>"
      ]
     },
     "metadata": {},
     "output_type": "display_data"
    }
   ],
   "source": [
    "# Create a bar chart to visualize the counts\n",
    "plt.figure(figsize=(8, 6))\n",
    "label_counts.plot(kind='bar', color=['blue', 'red'])\n",
    "plt.title('Label Distribution')\n",
    "plt.xlabel('Label')\n",
    "plt.ylabel('Count')\n",
    "plt.xticks(rotation=0)\n",
    "plt.show()"
   ]
  },
  {
   "cell_type": "code",
   "execution_count": 24,
   "metadata": {},
   "outputs": [
    {
     "data": {
      "image/png": "[encoded data removed]",
      "text/plain": [
       "<Figure size 600x600 with 1 Axes>"
      ]
     },
     "metadata": {},
     "output_type": "display_data"
    }
   ],
   "source": [
    "# Create a pie chart to visualize the percentages\n",
    "plt.figure(figsize=(6, 6))\n",
    "plt.pie(percentage, labels=['0', '1'], autopct='%1.1f%%', colors=['red', 'blue'])\n",
    "plt.title('Label Distribution Percentage')\n",
    "plt.show()"
   ]
  },
  {
   "cell_type": "code",
   "execution_count": null,
   "metadata": {},
   "outputs": [],
   "source": []
  },
  {
   "cell_type": "code",
   "execution_count": null,
   "metadata": {},
   "outputs": [],
   "source": []
  }
 ],
 "metadata": {
  "kernelspec": {
   "display_name": ".venv",
   "language": "python",
   "name": "python3"
  },
  "language_info": {
   "codemirror_mode": {
    "name": "ipython",
    "version": 3
   },
   "file_extension": ".py",
   "mimetype": "text/x-python",
   "name": "python",
   "nbconvert_exporter": "python",
   "pygments_lexer": "ipython3",
   "version": "3.10.9"
  },
  "orig_nbformat": 4
 },
 "nbformat": 4,
 "nbformat_minor": 2
}
